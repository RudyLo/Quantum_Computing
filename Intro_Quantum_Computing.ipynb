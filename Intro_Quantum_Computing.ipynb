{
 "cells": [
  {
   "cell_type": "markdown",
   "metadata": {},
   "source": [
    "### Introduction à l'informatique Quantique\n",
    "  Les exercices se font sur Qiskit"
   ]
  },
  {
   "cell_type": "code",
   "execution_count": 4,
   "metadata": {},
   "outputs": [
    {
     "name": "stdout",
     "output_type": "stream",
     "text": [
      "\n",
      "Total count for 00 and 11 are: {'00': 477, '11': 523}\n"
     ]
    },
    {
     "data": {
      "text/html": [
       "<pre style=\"word-wrap: normal;white-space: pre;background: #fff0;line-height: 1.1;font-family: &quot;Courier New&quot;,Courier,monospace\">     ┌───┐     ┌─┐   \n",
       "q_0: ┤ H ├──■──┤M├───\n",
       "     └───┘┌─┴─┐└╥┘┌─┐\n",
       "q_1: ─────┤ X ├─╫─┤M├\n",
       "          └───┘ ║ └╥┘\n",
       "c: 2/═══════════╩══╩═\n",
       "                0  1 </pre>"
      ],
      "text/plain": [
       "     ┌───┐     ┌─┐   \n",
       "q_0: ┤ H ├──■──┤M├───\n",
       "     └───┘┌─┴─┐└╥┘┌─┐\n",
       "q_1: ─────┤ X ├─╫─┤M├\n",
       "          └───┘ ║ └╥┘\n",
       "c: 2/═══════════╩══╩═\n",
       "                0  1 "
      ]
     },
     "execution_count": 4,
     "metadata": {},
     "output_type": "execute_result"
    }
   ],
   "source": [
    "import numpy as np\n",
    "from qiskit import QuantumCircuit, transpile\n",
    "from qiskit.providers.aer import QasmSimulator\n",
    "from qiskit.visualization import plot_histogram\n",
    "\n",
    "# Use Aer's qasm_simulator\n",
    "simulator = QasmSimulator()\n",
    "\n",
    "# Create a Quantum Circuit acting on the q register\n",
    "circuit = QuantumCircuit(2, 2)\n",
    "\n",
    "# Add a H gate on qubit 0\n",
    "circuit.h(0)\n",
    "\n",
    "# Add a CX (CNOT) gate on control qubit 0 and target qubit 1\n",
    "circuit.cx(0, 1)\n",
    "\n",
    "# Map the quantum measurement to the classical bits\n",
    "circuit.measure([0,1], [0,1])\n",
    "\n",
    "# compile the circuit down to low-level QASM instructions\n",
    "# supported by the backend (not needed for simple circuits)\n",
    "compiled_circuit = transpile(circuit, simulator)\n",
    "\n",
    "# Execute the circuit on the qasm simulator\n",
    "job = simulator.run(compiled_circuit, shots=1000)\n",
    "\n",
    "# Grab results from the job\n",
    "result = job.result()\n",
    "\n",
    "# Returns counts\n",
    "counts = result.get_counts(circuit)\n",
    "print(\"\\nTotal count for 00 and 11 are:\",counts)\n",
    "\n",
    "# Draw the circuit\n",
    "circuit.draw()"
   ]
  },
  {
   "cell_type": "code",
   "execution_count": 3,
   "metadata": {},
   "outputs": [
    {
     "name": "stdout",
     "output_type": "stream",
     "text": [
      "Collecting qiskit\n",
      "  Downloading qiskit-0.27.0.tar.gz (11 kB)\n",
      "Collecting qiskit-terra==0.17.4\n",
      "  Downloading qiskit_terra-0.17.4-cp37-cp37m-win_amd64.whl (5.2 MB)\n",
      "Collecting qiskit-aer==0.8.2\n",
      "  Downloading qiskit_aer-0.8.2-cp37-cp37m-win_amd64.whl (24.2 MB)\n",
      "Collecting qiskit-ibmq-provider==0.14.0\n",
      "  Downloading qiskit_ibmq_provider-0.14.0-py3-none-any.whl (229 kB)\n",
      "Collecting qiskit-ignis==0.6.0\n",
      "  Downloading qiskit_ignis-0.6.0-py3-none-any.whl (207 kB)\n",
      "Collecting qiskit-aqua==0.9.2\n",
      "  Downloading qiskit_aqua-0.9.2-py3-none-any.whl (2.1 MB)\n",
      "Requirement already satisfied: scipy>=1.0 in c:\\users\\rudyl\\anaconda3\\lib\\site-packages (from qiskit-aer==0.8.2->qiskit) (1.4.1)\n",
      "Collecting pybind11>=2.6\n",
      "  Downloading pybind11-2.6.2-py2.py3-none-any.whl (191 kB)\n",
      "Requirement already satisfied: numpy>=1.16.3 in c:\\users\\rudyl\\anaconda3\\lib\\site-packages (from qiskit-aer==0.8.2->qiskit) (1.18.1)\n",
      "Requirement already satisfied: scikit-learn>=0.20.0 in c:\\users\\rudyl\\anaconda3\\lib\\site-packages (from qiskit-aqua==0.9.2->qiskit) (0.22.1)\n",
      "Collecting docplex<=2.20.204\n",
      "  Downloading docplex-2.20.204.tar.gz (611 kB)\n",
      "Requirement already satisfied: setuptools>=40.1.0 in c:\\users\\rudyl\\anaconda3\\lib\\site-packages (from qiskit-aqua==0.9.2->qiskit) (45.2.0.post20200210)\n",
      "Requirement already satisfied: h5py in c:\\users\\rudyl\\anaconda3\\lib\\site-packages (from qiskit-aqua==0.9.2->qiskit) (2.10.0)\n",
      "Collecting yfinance\n",
      "  Downloading yfinance-0.1.60.tar.gz (26 kB)\n",
      "Collecting fastdtw<=0.3.4\n",
      "  Downloading fastdtw-0.3.4.tar.gz (133 kB)\n",
      "Collecting dlx<=1.0.4\n",
      "  Downloading dlx-1.0.4.tar.gz (5.5 kB)\n",
      "Requirement already satisfied: psutil>=5 in c:\\users\\rudyl\\anaconda3\\lib\\site-packages (from qiskit-aqua==0.9.2->qiskit) (5.6.7)\n",
      "Requirement already satisfied: pandas in c:\\users\\rudyl\\anaconda3\\lib\\site-packages (from qiskit-aqua==0.9.2->qiskit) (1.0.1)\n",
      "Collecting quandl\n",
      "  Downloading Quandl-3.6.1-py2.py3-none-any.whl (26 kB)\n",
      "Collecting retworkx>=0.8.0\n",
      "  Downloading retworkx-0.9.0-cp37-cp37m-win_amd64.whl (1.1 MB)\n",
      "Requirement already satisfied: sympy>=1.3 in c:\\users\\rudyl\\anaconda3\\lib\\site-packages (from qiskit-aqua==0.9.2->qiskit) (1.5.1)\n",
      "Collecting dill>=0.3\n",
      "  Downloading dill-0.3.4-py2.py3-none-any.whl (86 kB)\n",
      "Collecting websocket-client>=1.0.1\n",
      "  Downloading websocket_client-1.1.0-py2.py3-none-any.whl (68 kB)\n",
      "Requirement already satisfied: urllib3>=1.21.1 in c:\\users\\rudyl\\anaconda3\\lib\\site-packages (from qiskit-ibmq-provider==0.14.0->qiskit) (1.25.8)\n",
      "Requirement already satisfied: python-dateutil>=2.8.0 in c:\\users\\rudyl\\anaconda3\\lib\\site-packages (from qiskit-ibmq-provider==0.14.0->qiskit) (2.8.1)\n",
      "Requirement already satisfied: requests>=2.19 in c:\\users\\rudyl\\anaconda3\\lib\\site-packages (from qiskit-ibmq-provider==0.14.0->qiskit) (2.22.0)\n",
      "Collecting requests-ntlm>=1.1.0\n",
      "  Downloading requests_ntlm-1.1.0-py2.py3-none-any.whl (5.7 kB)\n",
      "Requirement already satisfied: jsonschema>=2.6 in c:\\users\\rudyl\\anaconda3\\lib\\site-packages (from qiskit-terra==0.17.4->qiskit) (3.2.0)\n",
      "Collecting fastjsonschema>=2.10\n",
      "  Downloading fastjsonschema-2.15.1-py3-none-any.whl (21 kB)\n",
      "Collecting python-constraint>=1.4\n",
      "  Downloading python-constraint-1.4.0.tar.bz2 (18 kB)\n",
      "Requirement already satisfied: ply>=3.10 in c:\\users\\rudyl\\anaconda3\\lib\\site-packages (from qiskit-terra==0.17.4->qiskit) (3.11)\n",
      "Requirement already satisfied: six in c:\\users\\rudyl\\anaconda3\\lib\\site-packages (from docplex<=2.20.204->qiskit-aqua==0.9.2->qiskit) (1.14.0)\n",
      "Requirement already satisfied: attrs>=17.4.0 in c:\\users\\rudyl\\anaconda3\\lib\\site-packages (from jsonschema>=2.6->qiskit-terra==0.17.4->qiskit) (19.3.0)\n",
      "Requirement already satisfied: importlib-metadata in c:\\users\\rudyl\\anaconda3\\lib\\site-packages (from jsonschema>=2.6->qiskit-terra==0.17.4->qiskit) (1.5.0)\n",
      "Requirement already satisfied: pyrsistent>=0.14.0 in c:\\users\\rudyl\\anaconda3\\lib\\site-packages (from jsonschema>=2.6->qiskit-terra==0.17.4->qiskit) (0.15.7)\n",
      "Requirement already satisfied: certifi>=2017.4.17 in c:\\users\\rudyl\\anaconda3\\lib\\site-packages (from requests>=2.19->qiskit-ibmq-provider==0.14.0->qiskit) (2019.11.28)\n",
      "Requirement already satisfied: chardet<3.1.0,>=3.0.2 in c:\\users\\rudyl\\anaconda3\\lib\\site-packages (from requests>=2.19->qiskit-ibmq-provider==0.14.0->qiskit) (3.0.4)\n",
      "Requirement already satisfied: idna<2.9,>=2.5 in c:\\users\\rudyl\\anaconda3\\lib\\site-packages (from requests>=2.19->qiskit-ibmq-provider==0.14.0->qiskit) (2.8)\n",
      "Collecting ntlm-auth>=1.0.2\n",
      "  Downloading ntlm_auth-1.5.0-py2.py3-none-any.whl (29 kB)\n",
      "Requirement already satisfied: cryptography>=1.3 in c:\\users\\rudyl\\anaconda3\\lib\\site-packages (from requests-ntlm>=1.1.0->qiskit-ibmq-provider==0.14.0->qiskit) (2.8)\n",
      "Requirement already satisfied: cffi!=1.11.3,>=1.8 in c:\\users\\rudyl\\anaconda3\\lib\\site-packages (from cryptography>=1.3->requests-ntlm>=1.1.0->qiskit-ibmq-provider==0.14.0->qiskit) (1.14.0)\n",
      "Requirement already satisfied: pycparser in c:\\users\\rudyl\\anaconda3\\lib\\site-packages (from cffi!=1.11.3,>=1.8->cryptography>=1.3->requests-ntlm>=1.1.0->qiskit-ibmq-provider==0.14.0->qiskit) (2.19)\n",
      "Requirement already satisfied: joblib>=0.11 in c:\\users\\rudyl\\anaconda3\\lib\\site-packages (from scikit-learn>=0.20.0->qiskit-aqua==0.9.2->qiskit) (0.14.1)\n",
      "Requirement already satisfied: mpmath>=0.19 in c:\\users\\rudyl\\anaconda3\\lib\\site-packages (from sympy>=1.3->qiskit-aqua==0.9.2->qiskit) (1.1.0)\n",
      "Requirement already satisfied: zipp>=0.5 in c:\\users\\rudyl\\anaconda3\\lib\\site-packages (from importlib-metadata->jsonschema>=2.6->qiskit-terra==0.17.4->qiskit) (2.2.0)\n",
      "Requirement already satisfied: pytz>=2017.2 in c:\\users\\rudyl\\anaconda3\\lib\\site-packages (from pandas->qiskit-aqua==0.9.2->qiskit) (2019.3)\n",
      "Collecting inflection>=0.3.1\n",
      "  Downloading inflection-0.5.1-py2.py3-none-any.whl (9.5 kB)\n",
      "Requirement already satisfied: more-itertools in c:\\users\\rudyl\\anaconda3\\lib\\site-packages (from quandl->qiskit-aqua==0.9.2->qiskit) (8.2.0)\n",
      "Collecting multitasking>=0.0.7\n",
      "  Downloading multitasking-0.0.9.tar.gz (8.1 kB)\n",
      "Collecting lxml>=4.5.1\n",
      "  Downloading lxml-4.6.3-cp37-cp37m-win_amd64.whl (3.5 MB)\n",
      "Building wheels for collected packages: qiskit, dlx, docplex, fastdtw, python-constraint, yfinance, multitasking\n",
      "  Building wheel for qiskit (setup.py): started\n",
      "  Building wheel for qiskit (setup.py): finished with status 'done'\n",
      "  Created wheel for qiskit: filename=qiskit-0.27.0-py3-none-any.whl size=10496 sha256=ad8dc2d575c5f7e49d8ea78791175731b1b6f231ff0641e4997297040443ed32\n",
      "  Stored in directory: c:\\users\\rudyl\\appdata\\local\\pip\\cache\\wheels\\fd\\68\\90\\3693b43108e320912706a8ba32c0e5721ee9437583c56c6b3e\n",
      "  Building wheel for dlx (setup.py): started\n",
      "  Building wheel for dlx (setup.py): finished with status 'done'\n",
      "  Created wheel for dlx: filename=dlx-1.0.4-py3-none-any.whl size=5715 sha256=9031d2c06839206734cae16519f9563470abf333f189fd8eb30d3997f10b249e\n",
      "  Stored in directory: c:\\users\\rudyl\\appdata\\local\\pip\\cache\\wheels\\78\\55\\c8\\dc61e772445a566b7608a476d151e9dcaf4e092b01b0c4bc3c\n",
      "  Building wheel for docplex (setup.py): started\n",
      "  Building wheel for docplex (setup.py): finished with status 'done'\n",
      "  Created wheel for docplex: filename=docplex-2.20.204-py3-none-any.whl size=675366 sha256=ea288b485c61b665283c9b8e1e14af1c07b91d865f611cb8e172ea6fc3739ca8\n",
      "  Stored in directory: c:\\users\\rudyl\\appdata\\local\\pip\\cache\\wheels\\24\\28\\27\\3d81f89b59c6ccc69af0b4d76c6ff76337d80c874871b52ff6\n",
      "  Building wheel for fastdtw (setup.py): started\n",
      "  Building wheel for fastdtw (setup.py): finished with status 'done'\n",
      "  Created wheel for fastdtw: filename=fastdtw-0.3.4-py3-none-any.whl size=3594 sha256=eaea17cfd900693d29eb4122223223ffb290b3fdc66c6789fa1c0b6c40c3c9ef\n",
      "  Stored in directory: c:\\users\\rudyl\\appdata\\local\\pip\\cache\\wheels\\a2\\da\\8c\\2d1b9b233595056f05e59156bb555f7277b88beb385605de16\n",
      "  Building wheel for python-constraint (setup.py): started\n",
      "  Building wheel for python-constraint (setup.py): finished with status 'done'\n",
      "  Created wheel for python-constraint: filename=python_constraint-1.4.0-py2.py3-none-any.whl size=24085 sha256=0fd2452ef39c493476d798ecbbd1d90ad1b106df7024f321c04fb3e681dcb02e\n",
      "  Stored in directory: c:\\users\\rudyl\\appdata\\local\\pip\\cache\\wheels\\07\\27\\db\\1222c80eb1e431f3d2199c12569cb1cac60f562a451fe30479\n",
      "  Building wheel for yfinance (setup.py): started\n",
      "  Building wheel for yfinance (setup.py): finished with status 'done'\n",
      "  Created wheel for yfinance: filename=yfinance-0.1.60-py2.py3-none-any.whl size=23814 sha256=d80a6e8a46214ef9f24d02919b7830ad9ccfe03ccde56ab2c0adec42fbdb6110\n",
      "  Stored in directory: c:\\users\\rudyl\\appdata\\local\\pip\\cache\\wheels\\89\\b1\\34\\627471df5f96e91a200b93561b3d8d36ddb0d34f8ba6b9d726\n",
      "  Building wheel for multitasking (setup.py): started\n",
      "  Building wheel for multitasking (setup.py): finished with status 'done'\n",
      "  Created wheel for multitasking: filename=multitasking-0.0.9-py3-none-any.whl size=8374 sha256=2ba90b45d063d5105a0e72bd8805ba42f0b9256e9106d19644600b4e6a67e139\n",
      "  Stored in directory: c:\\users\\rudyl\\appdata\\local\\pip\\cache\\wheels\\ae\\25\\47\\4d68431a7ec1b6c4b5233365934b74c1d4e665bf5f968d363a\n",
      "Successfully built qiskit dlx docplex fastdtw python-constraint yfinance multitasking\n",
      "Installing collected packages: retworkx, python-constraint, fastjsonschema, dill, qiskit-terra, ntlm-auth, multitasking, lxml, inflection, yfinance, websocket-client, requests-ntlm, quandl, qiskit-ignis, pybind11, fastdtw, docplex, dlx, qiskit-ibmq-provider, qiskit-aqua, qiskit-aer, qiskit\n",
      "  Attempting uninstall: lxml\n",
      "    Found existing installation: lxml 4.5.0\n",
      "    Uninstalling lxml-4.5.0:\n",
      "      Successfully uninstalled lxml-4.5.0\n",
      "Successfully installed dill-0.3.4 dlx-1.0.4 docplex-2.20.204 fastdtw-0.3.4 fastjsonschema-2.15.1 inflection-0.5.1 lxml-4.6.3 multitasking-0.0.9 ntlm-auth-1.5.0 pybind11-2.6.2 python-constraint-1.4.0 qiskit-0.27.0 qiskit-aer-0.8.2 qiskit-aqua-0.9.2 qiskit-ibmq-provider-0.14.0 qiskit-ignis-0.6.0 qiskit-terra-0.17.4 quandl-3.6.1 requests-ntlm-1.1.0 retworkx-0.9.0 websocket-client-1.1.0 yfinance-0.1.60\n",
      "Note: you may need to restart the kernel to use updated packages.\n"
     ]
    },
    {
     "name": "stderr",
     "output_type": "stream",
     "text": [
      "WARNING: You are using pip version 21.1.1; however, version 21.1.3 is available.\n",
      "You should consider upgrading via the 'C:\\Users\\Rudyl\\anaconda3\\python.exe -m pip install --upgrade pip' command.\n"
     ]
    }
   ],
   "source": [
    "pip install qiskit"
   ]
  },
  {
   "cell_type": "code",
   "execution_count": null,
   "metadata": {},
   "outputs": [],
   "source": []
  }
 ],
 "metadata": {
  "kernelspec": {
   "display_name": "Python 3",
   "language": "python",
   "name": "python3"
  },
  "language_info": {
   "codemirror_mode": {
    "name": "ipython",
    "version": 3
   },
   "file_extension": ".py",
   "mimetype": "text/x-python",
   "name": "python",
   "nbconvert_exporter": "python",
   "pygments_lexer": "ipython3",
   "version": "3.7.6"
  }
 },
 "nbformat": 4,
 "nbformat_minor": 4
}
