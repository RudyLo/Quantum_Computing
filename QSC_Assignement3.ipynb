{
 "cells": [
  {
   "cell_type": "markdown",
   "metadata": {},
   "source": [
    "# Importation des données"
   ]
  },
  {
   "cell_type": "code",
   "execution_count": 12,
   "metadata": {},
   "outputs": [],
   "source": [
    "from qiskit import QuantumCircuit, ClassicalRegister, QuantumRegister, Aer, execute\n",
    "from qiskit.tools.visualization import plot_bloch_vector, plot_histogram\n",
    "# from qiskit.quantum_info.random.utils import random_state\n",
    "from qiskit.quantum_info import random_statevector as random_state\n",
    "# from qiskit.tools import parallel\n",
    "from qiskit.tools import parallel\n",
    "import numpy as np\n",
    "import itertools"
   ]
  },
  {
   "cell_type": "markdown",
   "metadata": {},
   "source": [
    "### Création de l'état de Dirac et de simulation"
   ]
  },
  {
   "cell_type": "code",
   "execution_count": 4,
   "metadata": {},
   "outputs": [],
   "source": [
    "# Defining the unitary simulator\n",
    "unit_simulator = Aer.get_backend('unitary_simulator')\n",
    "# Defining the statevector simulator\n",
    "state_simulator = Aer.get_backend('statevector_simulator')\n",
    "# Defining the assembly simulator\n",
    "qasm_simulator = Aer.get_backend('qasm_simulator')\n",
    "\n",
    "# Function: state_to_dirac(quantum_state)\n",
    "###\n",
    "#This function accepts an arbitrary state vector and prints it in its␣\n",
    "#,→corresponding Dirac notation\n",
    "def state_to_dirac(state):\n",
    "# Number of qubits (often denoted with small n)\n",
    "    n = int(np.log2(state.size))\n",
    "# Number of complex probability amplitudes (often denoted with capital N)\n",
    "    N = state.size\n",
    "    return ' '.join('{:+.4f}|{:0{n:d}b}>'.format(a.item(), i, n=n)\n",
    "    for a, i in zip(state, itertools.count()) if not np.isclose(a.item(), 0.0))\n",
    "# Function: simulate_circuit_and_obtain_vector(quantum_circuit, number_shots)\n",
    "###\n",
    "#This function accepts an arbitrary circuit, performs its state vector␣\n",
    "#,→simulation and\n",
    "# returns the resulting vector state as a [x, y, z] vector that could be plotted\n",
    "def simulate_circuit_and_obtain_vector(qc, trials = 100000):\n",
    "# Execute the state vector simulation\n",
    "    result = execute(qc, state_simulator).result().get_statevector(qc)\n",
    "# Obtain the Bloch sphere representation of the resulting vector state\n",
    "    bloch_state = state_to_bloch_vector(result, trials)\n",
    "# Convert the resulting state vector in its Dirac notation\n",
    "    dirac_vector = state_to_dirac(result)\n",
    "    return bloch_state, dirac_vector"
   ]
  },
  {
   "cell_type": "markdown",
   "metadata": {},
   "source": [
    "# Exercice 1, question 2"
   ]
  },
  {
   "cell_type": "code",
   "execution_count": 36,
   "metadata": {},
   "outputs": [
    {
     "name": "stdout",
     "output_type": "stream",
     "text": [
      "State vector :  -0.7071+0.0000j|01> +0.7071+0.0000j|10>\n"
     ]
    },
    {
     "data": {
      "image/png": "[encoded data removed]",
      "text/plain": [
       "<Figure size 267.052x204.68 with 1 Axes>"
      ]
     },
     "execution_count": 36,
     "metadata": {},
     "output_type": "execute_result"
    }
   ],
   "source": [
    "import numpy as np\n",
    "from qiskit import QuantumCircuit, transpile\n",
    "from qiskit.providers.aer import QasmSimulator\n",
    "from qiskit.visualization import plot_histogram\n",
    "\n",
    "# Use Aer's qasm_simulator\n",
    "simulator = QasmSimulator()\n",
    "\n",
    "# Create a Quantum Circuit acting on the q register\n",
    "circuit = QuantumCircuit(2, 2)\n",
    "\n",
    "# Add a H and Z gate on qubit 0\n",
    "circuit.h(0)\n",
    "circuit.z(0)\n",
    "\n",
    "#Add a X gate on qubit 1\n",
    "circuit.x(1)\n",
    "# Add a CX (CNOT) gate on control qubit 0 and target qubit 1\n",
    "circuit.cx(0, 1)\n",
    "\n",
    "\n",
    "# compile the circuit down to low-level QASM instructions\n",
    "# Execute and get counts, suggestion:\n",
    "job = execute(circuit, state_simulator)\n",
    "resulting_vector = job.result().get_statevector(circuit)\n",
    "\n",
    "dirac = state_to_dirac(resulting_vector)\n",
    "print(\"State vector : \", dirac)                                                \n",
    "                                                \n",
    "# supported by the backend (not needed for simple circuits)\n",
    "compiled_circuit = transpile(circuit, simulator)\n",
    "\n",
    "# Execute the circuit on the qasm simulator\n",
    "job = simulator.run(compiled_circuit, shots=1000)\n",
    "\n",
    "\n",
    "# Draw the circuit\n",
    "circuit.draw(output='mpl')"
   ]
  },
  {
   "cell_type": "markdown",
   "metadata": {},
   "source": [
    "# Exercice 1, question 3"
   ]
  },
  {
   "cell_type": "code",
   "execution_count": 51,
   "metadata": {},
   "outputs": [
    {
     "name": "stdout",
     "output_type": "stream",
     "text": [
      "State vector :  +1.0000+0.0000j|00>\n",
      "Circuit unitary transformation :\n",
      " [[1.+0.j 0.+0.j 0.+0.j 0.+0.j]\n",
      " [0.+0.j 0.+0.j 1.+0.j 0.+0.j]\n",
      " [0.+0.j 1.+0.j 0.+0.j 0.+0.j]\n",
      " [0.+0.j 0.+0.j 0.+0.j 1.+0.j]]\n"
     ]
    },
    {
     "data": {
      "image/png": "[encoded data removed]",
      "text/plain": [
       "<Figure size 146.652x204.68 with 1 Axes>"
      ]
     },
     "execution_count": 51,
     "metadata": {},
     "output_type": "execute_result"
    }
   ],
   "source": [
    "# Use Aer's qasm_simulator\n",
    "simulator = QasmSimulator()\n",
    "\n",
    "# Create a Quantum Circuit acting on the q register\n",
    "circuit1 = QuantumCircuit(2, 2)\n",
    "\n",
    "# Add a SWAP gate between qubit 0 and 1\n",
    "circuit1.swap(0,1)\n",
    "\n",
    "# compile the circuit down to low-level QASM instructions\n",
    "# Execute and get counts, suggestion:\n",
    "job = execute(circuit1, state_simulator)\n",
    "resulting_vector = job.result().get_statevector(circuit1)\n",
    "\n",
    "dirac = state_to_dirac(resulting_vector)\n",
    "print(\"State vector : \", dirac)                                                \n",
    "                                                \n",
    "# supported by the backend (not needed for simple circuits)\n",
    "compiled_circuit = transpile(circuit1, simulator)\n",
    "\n",
    "# Execute the circuit on the qasm simulator\n",
    "job = simulator.run(compiled_circuit, shots=1000)\n",
    "\n",
    "#Execute the simulation to obtain the unitary matrix\n",
    "job1 = execute(circuit1, unit_simulator)\n",
    "resulting_matrix1 = job1.result().get_unitary(circuit1, decimals=3)\n",
    "print(\"Circuit unitary transformation :\\n\", resulting_matrix1)\n",
    "\n",
    "# Draw the circuit\n",
    "circuit1.draw(output='mpl')"
   ]
  },
  {
   "cell_type": "code",
   "execution_count": 50,
   "metadata": {},
   "outputs": [
    {
     "name": "stdout",
     "output_type": "stream",
     "text": [
      "State vector :  +1.0000+0.0000j|00>\n",
      "Circuit unitary transformation:\n",
      " [[1.+0.j 0.+0.j 0.+0.j 0.+0.j]\n",
      " [0.+0.j 0.+0.j 1.+0.j 0.+0.j]\n",
      " [0.+0.j 1.+0.j 0.+0.j 0.+0.j]\n",
      " [0.+0.j 0.+0.j 0.+0.j 1.+0.j]]\n"
     ]
    },
    {
     "data": {
      "image/png": "[encoded data removed]",
      "text/plain": [
       "<Figure size 267.052x204.68 with 1 Axes>"
      ]
     },
     "execution_count": 50,
     "metadata": {},
     "output_type": "execute_result"
    }
   ],
   "source": [
    "# Use Aer's qasm_simulator\n",
    "simulator = QasmSimulator()\n",
    "\n",
    "# Create a Quantum Circuit acting on the q register\n",
    "circuit2 = QuantumCircuit(2, 2)\n",
    "\n",
    "# Add a CNOT gate between qubit 0 and 1\n",
    "circuit2.cx(0,1)\n",
    "\n",
    "#Add a CNOT gate between qubit 1 and 0\n",
    "circuit2.cx(1, 0)\n",
    "\n",
    "# Add a CNOT gate between qubit 0 and 1\n",
    "circuit2.cx(0,1)\n",
    "\n",
    "\n",
    "# compile the circuit down to low-level QASM instructions\n",
    "# Execute and get counts, suggestion:\n",
    "job = execute(circuit2, state_simulator)\n",
    "resulting_vector = job.result().get_statevector(circuit2)\n",
    "\n",
    "dirac = state_to_dirac(resulting_vector)\n",
    "print(\"State vector : \", dirac)                                                \n",
    "                                                \n",
    "# supported by the backend (not needed for simple circuits)\n",
    "compiled_circuit = transpile(circuit2, simulator)\n",
    "\n",
    "# Execute the circuit on the qasm simulator\n",
    "job = simulator.run(compiled_circuit, shots=1000)\n",
    "\n",
    "\n",
    "#Execute the simulation to obtain the unitary matrix\n",
    "job2 = execute(circuit2, unit_simulator)\n",
    "resulting_matrix2 = job2.result().get_unitary(circuit2, decimals=3)\n",
    "print(\"Circuit unitary transformation:\\n\", resulting_matrix2)\n",
    "\n",
    "\n",
    "# Draw the circuit\n",
    "circuit2.draw(output='mpl')"
   ]
  },
  {
   "cell_type": "code",
   "execution_count": 52,
   "metadata": {},
   "outputs": [
    {
     "name": "stdout",
     "output_type": "stream",
     "text": [
      "The two circuits are equivalent:  True\n"
     ]
    }
   ],
   "source": [
    "print(\"The two circuits are equivalent: \", np.allclose(resulting_matrix1,resulting_matrix2))"
   ]
  },
  {
   "cell_type": "markdown",
   "metadata": {},
   "source": [
    "# Exercice 1, 4 - Bell state"
   ]
  },
  {
   "cell_type": "code",
   "execution_count": 55,
   "metadata": {},
   "outputs": [
    {
     "name": "stdout",
     "output_type": "stream",
     "text": [
      "State vector :  +0.7071+0.0000j|01> +0.7071+0.0000j|10>\n"
     ]
    },
    {
     "data": {
      "image/png": "[encoded data removed]",
      "text/plain": [
       "<Figure size 267.052x204.68 with 1 Axes>"
      ]
     },
     "execution_count": 55,
     "metadata": {},
     "output_type": "execute_result"
    }
   ],
   "source": [
    "# Use Aer's qasm_simulator\n",
    "simulator = QasmSimulator()\n",
    "\n",
    "# Create a Quantum Circuit acting on the q register\n",
    "circuit3 = QuantumCircuit(2, 2)\n",
    "\n",
    "# Add a H and Z gate on qubit 0\n",
    "circuit3.h(1)\n",
    "\n",
    "# Add a CX (CNOT) gate on control qubit 0 and target qubit 1\n",
    "circuit3.cx(1,0)\n",
    "\n",
    "#Add a X gate on qubit 1\n",
    "circuit3.x(0)\n",
    "\n",
    "\n",
    "\n",
    "# compile the circuit down to low-level QASM instructions\n",
    "# Execute and get counts, suggestion:\n",
    "job = execute(circuit3, state_simulator)\n",
    "resulting_vector = job.result().get_statevector(circuit3)\n",
    "\n",
    "dirac = state_to_dirac(resulting_vector)\n",
    "print(\"State vector : \", dirac)                                                \n",
    "                                                \n",
    "# supported by the backend (not needed for simple circuits)\n",
    "compiled_circuit = transpile(circuit3, simulator)\n",
    "\n",
    "# Execute the circuit on the qasm simulator\n",
    "job = simulator.run(compiled_circuit, shots=1000)\n",
    "\n",
    "\n",
    "# Draw the circuit\n",
    "circuit3.draw(output='mpl')"
   ]
  },
  {
   "cell_type": "markdown",
   "metadata": {},
   "source": [
    "# Test du Bell state"
   ]
  },
  {
   "cell_type": "code",
   "execution_count": 63,
   "metadata": {},
   "outputs": [
    {
     "name": "stdout",
     "output_type": "stream",
     "text": [
      "State vector :  +0.7071+0.0000j|01> +0.7071+0.0000j|10>\n",
      "\n",
      "Total count for 10 and 01 are: {'01': 25071, '10': 24929}\n"
     ]
    },
    {
     "data": {
      "image/png": "[encoded data removed]",
      "text/plain": [
       "<Figure size 327.252x204.68 with 1 Axes>"
      ]
     },
     "execution_count": 63,
     "metadata": {},
     "output_type": "execute_result"
    }
   ],
   "source": [
    "# Use Aer's qasm_simulator\n",
    "simulator = QasmSimulator()\n",
    "\n",
    "# Create a Quantum Circuit acting on the q register\n",
    "circuit4 = QuantumCircuit(2, 2)\n",
    "\n",
    "# Add a H and Z gate on qubit 0\n",
    "circuit4.h(1)\n",
    "\n",
    "# Add a CX (CNOT) gate on control qubit 0 and target qubit 1\n",
    "circuit4.cx(1,0)\n",
    "\n",
    "#Add a X gate on qubit 1\n",
    "circuit4.x(0)\n",
    "\n",
    "\n",
    "\n",
    "# compile the circuit down to low-level QASM instructions\n",
    "# Execute and get counts, suggestion:\n",
    "job = execute(circuit4, state_simulator)\n",
    "resulting_vector = job.result().get_statevector(circuit4)\n",
    "\n",
    "dirac = state_to_dirac(resulting_vector)\n",
    "print(\"State vector : \", dirac)                                                \n",
    "                                                \n",
    "# supported by the backend (not needed for simple circuits)\n",
    "compiled_circuit = transpile(circuit4, simulator)\n",
    "\n",
    "# Map the quantum measurement to the classical bits\n",
    "circuit4.measure([1,0], [0,1])\n",
    "\n",
    "# Execute the circuit on the qasm simulator\n",
    "job = execute(circuit4, qasm_simulator, shots = 50000)\n",
    "\n",
    "# Grab results from the job\n",
    "result = job.result()\n",
    "\n",
    "# Returns counts\n",
    "counts = result.get_counts(circuit4)\n",
    "print(\"\\nTotal count for 10 and 01 are:\",counts)\n",
    "\n",
    "# Draw the circuit\n",
    "circuit4.draw(output='mpl')"
   ]
  },
  {
   "cell_type": "code",
   "execution_count": 64,
   "metadata": {},
   "outputs": [
    {
     "data": {
      "image/png": "[encoded data removed]",
      "text/plain": [
       "<Figure size 504x360 with 1 Axes>"
      ]
     },
     "execution_count": 64,
     "metadata": {},
     "output_type": "execute_result"
    }
   ],
   "source": [
    "plot_histogram(counts)"
   ]
  },
  {
   "cell_type": "code",
   "execution_count": null,
   "metadata": {},
   "outputs": [],
   "source": []
  }
 ],
 "metadata": {
  "kernelspec": {
   "display_name": "Python 3",
   "language": "python",
   "name": "python3"
  },
  "language_info": {
   "codemirror_mode": {
    "name": "ipython",
    "version": 3
   },
   "file_extension": ".py",
   "mimetype": "text/x-python",
   "name": "python",
   "nbconvert_exporter": "python",
   "pygments_lexer": "ipython3",
   "version": "3.7.6"
  }
 },
 "nbformat": 4,
 "nbformat_minor": 4
}
