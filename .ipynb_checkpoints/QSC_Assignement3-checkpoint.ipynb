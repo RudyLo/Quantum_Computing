{
 "cells": [
  {
   "cell_type": "markdown",
   "metadata": {},
   "source": [
    "# Importation des données"
   ]
  },
  {
   "cell_type": "code",
   "execution_count": 2,
   "metadata": {},
   "outputs": [],
   "source": [
    "from qiskit import QuantumCircuit, ClassicalRegister, QuantumRegister, Aer\n",
    "from qiskit.tools.visualization import plot_bloch_vector, plot_histogram\n",
    "# from qiskit.quantum_info.random.utils import random_state\n",
    "from qiskit.quantum_info import random_statevector as random_state\n",
    "# from qiskit.tools import parallel\n",
    "from qiskit.tools import parallel\n",
    "import numpy as np\n",
    "import itertools"
   ]
  },
  {
   "cell_type": "markdown",
   "metadata": {},
   "source": [
    "### Création de l'état de Dirac et de simulation"
   ]
  },
  {
   "cell_type": "code",
   "execution_count": 4,
   "metadata": {},
   "outputs": [],
   "source": [
    "# Defining the unitary simulator\n",
    "unit_simulator = Aer.get_backend('unitary_simulator')\n",
    "# Defining the statevector simulator\n",
    "state_simulator = Aer.get_backend('statevector_simulator')\n",
    "# Defining the assembly simulator\n",
    "qasm_simulator = Aer.get_backend('qasm_simulator')\n",
    "\n",
    "# Function: state_to_dirac(quantum_state)\n",
    "###\n",
    "#This function accepts an arbitrary state vector and prints it in its␣\n",
    "#,→corresponding Dirac notation\n",
    "def state_to_dirac(state):\n",
    "# Number of qubits (often denoted with small n)\n",
    "    n = int(np.log2(state.size))\n",
    "# Number of complex probability amplitudes (often denoted with capital N)\n",
    "    N = state.size\n",
    "    return ' '.join('{:+.4f}|{:0{n:d}b}>'.format(a.item(), i, n=n)\n",
    "    for a, i in zip(state, itertools.count()) if not np.isclose(a.item(), 0.0))\n",
    "# Function: simulate_circuit_and_obtain_vector(quantum_circuit, number_shots)\n",
    "###\n",
    "#This function accepts an arbitrary circuit, performs its state vector␣\n",
    "#,→simulation and\n",
    "# returns the resulting vector state as a [x, y, z] vector that could be plotted\n",
    "def simulate_circuit_and_obtain_vector(qc, trials = 100000):\n",
    "# Execute the state vector simulation\n",
    "    result = execute(qc, state_simulator).result().get_statevector(qc)\n",
    "# Obtain the Bloch sphere representation of the resulting vector state\n",
    "    bloch_state = state_to_bloch_vector(result, trials)\n",
    "# Convert the resulting state vector in its Dirac notation\n",
    "    dirac_vector = state_to_dirac(result)\n",
    "    return bloch_state, dirac_vector"
   ]
  },
  {
   "cell_type": "markdown",
   "metadata": {},
   "source": [
    "# Exercice 1, question 2"
   ]
  },
  {
   "cell_type": "code",
   "execution_count": 8,
   "metadata": {},
   "outputs": [
    {
     "data": {
      "image/png": "[encoded data removed]",
      "text/plain": [
       "<Figure size 267.052x204.68 with 1 Axes>"
      ]
     },
     "execution_count": 8,
     "metadata": {},
     "output_type": "execute_result"
    }
   ],
   "source": [
    "import numpy as np\n",
    "from qiskit import QuantumCircuit, transpile\n",
    "from qiskit.providers.aer import QasmSimulator\n",
    "from qiskit.visualization import plot_histogram\n",
    "\n",
    "# Use Aer's qasm_simulator\n",
    "simulator = QasmSimulator()\n",
    "\n",
    "# Create a Quantum Circuit acting on the q register\n",
    "circuit = QuantumCircuit(2, 2)\n",
    "\n",
    "# Add a H and Z gate on qubit 0\n",
    "circuit.h(0)\n",
    "circuit.z(0)\n",
    "\n",
    "#Add a X gate on qubit 1\n",
    "circuit.x(1)\n",
    "# Add a CX (CNOT) gate on control qubit 0 and target qubit 1\n",
    "circuit.cx(0, 1)\n",
    "\n",
    "\n",
    "# compile the circuit down to low-level QASM instructions\n",
    "# supported by the backend (not needed for simple circuits)\n",
    "compiled_circuit = transpile(circuit, simulator)\n",
    "\n",
    "# Execute the circuit on the qasm simulator\n",
    "job = simulator.run(compiled_circuit, shots=1000)\n",
    "\n",
    "\n",
    "# Draw the circuit\n",
    "circuit.draw(output='mpl')"
   ]
  },
  {
   "cell_type": "code",
   "execution_count": null,
   "metadata": {},
   "outputs": [],
   "source": []
  }
 ],
 "metadata": {
  "kernelspec": {
   "display_name": "Python 3",
   "language": "python",
   "name": "python3"
  },
  "language_info": {
   "codemirror_mode": {
    "name": "ipython",
    "version": 3
   },
   "file_extension": ".py",
   "mimetype": "text/x-python",
   "name": "python",
   "nbconvert_exporter": "python",
   "pygments_lexer": "ipython3",
   "version": "3.7.6"
  }
 },
 "nbformat": 4,
 "nbformat_minor": 4
}
